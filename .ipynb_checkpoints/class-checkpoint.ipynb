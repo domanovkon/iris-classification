{
 "cells": [
  {
   "cell_type": "code",
   "execution_count": 7,
   "metadata": {},
   "outputs": [
    {
     "name": "stdout",
     "output_type": "stream",
     "text": [
      "    aardvark  1  0  0.1  1.1  0.2  0.3  1.2  1.3  1.4  1.5  0.4  0.5  4  0.6  \\\n",
      "0   antelope  1  0    0    1    0    0    0    1    1    1    0    0  4    1   \n",
      "1       bass  0  0    1    0    0    1    1    1    1    0    0    1  0    1   \n",
      "2       bear  1  0    0    1    0    0    1    1    1    1    0    0  4    0   \n",
      "3       boar  1  0    0    1    0    0    1    1    1    1    0    0  4    1   \n",
      "4    buffalo  1  0    0    1    0    0    0    1    1    1    0    0  4    1   \n",
      "..       ... .. ..  ...  ...  ...  ...  ...  ...  ...  ...  ...  ... ..  ...   \n",
      "95   wallaby  1  0    0    1    0    0    0    1    1    1    0    0  2    1   \n",
      "96      wasp  1  0    1    0    1    0    0    0    0    1    1    0  6    0   \n",
      "97      wolf  1  0    0    1    0    0    1    1    1    1    0    0  4    1   \n",
      "98      worm  0  0    1    0    0    0    0    0    0    1    0    0  0    0   \n",
      "99      wren  0  1    1    0    1    0    0    0    1    1    0    0  2    1   \n",
      "\n",
      "    0.7  1.6  1.7  \n",
      "0     0    1    1  \n",
      "1     0    0    4  \n",
      "2     0    1    1  \n",
      "3     0    1    1  \n",
      "4     0    1    1  \n",
      "..  ...  ...  ...  \n",
      "95    0    1    1  \n",
      "96    0    0    6  \n",
      "97    0    1    1  \n",
      "98    0    0    7  \n",
      "99    0    0    2  \n",
      "\n",
      "[100 rows x 18 columns]\n"
     ]
    }
   ],
   "source": [
    "import pandas as pd\n",
    "# url = \"https://archive.ics.uci.edu/ml/machine-learning-databases/iris/iris.data\"# load dataset into Pandas DataFrame\n",
    "url = \"https://archive.ics.uci.edu/ml/machine-learning-databases/zoo/zoo.data\"\n",
    "# df = pd.read_csv(url, names=['sepal length','sepal width','petal length','petal width','target'])\n",
    "df = pd.read_csv(url)\n",
    "print(df)"
   ]
  },
  {
   "cell_type": "code",
   "execution_count": null,
   "metadata": {},
   "outputs": [],
   "source": []
  }
 ],
 "metadata": {
  "kernelspec": {
   "display_name": "Python 3 (ipykernel)",
   "language": "python",
   "name": "python3"
  },
  "language_info": {
   "codemirror_mode": {
    "name": "ipython",
    "version": 3
   },
   "file_extension": ".py",
   "mimetype": "text/x-python",
   "name": "python",
   "nbconvert_exporter": "python",
   "pygments_lexer": "ipython3",
   "version": "3.9.5"
  }
 },
 "nbformat": 4,
 "nbformat_minor": 1
}
